{
 "metadata": {
  "name": ""
 },
 "nbformat": 3,
 "nbformat_minor": 0,
 "worksheets": [
  {
   "cells": [
    {
     "cell_type": "code",
     "collapsed": false,
     "input": [
      "import pandas as pd\n",
      "import numpy as np\n",
      "import datetime\n",
      "from sklearn.cross_validation import KFold, train_test_split\n",
      "from sklearn.svm import SVC\n",
      "from sklearn.grid_search import GridSearchCV\n",
      "from sklearn.metrics import metrics\n",
      "import skflow"
     ],
     "language": "python",
     "metadata": {},
     "outputs": [
      {
       "output_type": "stream",
       "stream": "stderr",
       "text": [
        "/usr/local/lib/python2.7/dist-packages/sklearn/metrics/metrics.py:4: DeprecationWarning: sklearn.metrics.metrics is deprecated and will be removed in 0.18. Please import from sklearn.metrics\n",
        "  DeprecationWarning)\n"
       ]
      }
     ],
     "prompt_number": 24
    },
    {
     "cell_type": "code",
     "collapsed": false,
     "input": [
      "dat = pd.read_table(\"algebra_2006_2007/algebra_2006_2007_master.txt\")"
     ],
     "language": "python",
     "metadata": {},
     "outputs": [],
     "prompt_number": 2
    },
    {
     "cell_type": "code",
     "collapsed": false,
     "input": [
      "dat.columns = dat.columns.str.replace(\" \",\"_\")"
     ],
     "language": "python",
     "metadata": {},
     "outputs": [],
     "prompt_number": 3
    },
    {
     "cell_type": "code",
     "collapsed": false,
     "input": [
      "points = (dat.Corrects-dat.Incorrects).sum()"
     ],
     "language": "python",
     "metadata": {},
     "outputs": [],
     "prompt_number": 4
    },
    {
     "cell_type": "code",
     "collapsed": false,
     "input": [
      "dat.insert(2,\"Point\", points)"
     ],
     "language": "python",
     "metadata": {},
     "outputs": [],
     "prompt_number": 5
    },
    {
     "cell_type": "code",
     "collapsed": false,
     "input": [
      "data_per_quiz = dat.groupby([\"Problem_Name\",\"Anon_Student_Id\"])"
     ],
     "language": "python",
     "metadata": {},
     "outputs": [],
     "prompt_number": 129
    },
    {
     "cell_type": "code",
     "collapsed": false,
     "input": [
      "matrix = pd.DataFrame(columns=dat.Anon_Student_Id.unique(),index=dat[\"Problem_Name\"].unique())"
     ],
     "language": "python",
     "metadata": {},
     "outputs": [],
     "prompt_number": 121
    },
    {
     "cell_type": "code",
     "collapsed": false,
     "input": [
      "for name,quiz in data_per_quiz:\n",
      "    problem_name,student_id = name\n",
      "    points = (quiz.Corrects-quiz.Incorrects).sum()\n",
      "    matrix.loc[problem_name,student_id]=points"
     ],
     "language": "python",
     "metadata": {},
     "outputs": [],
     "prompt_number": 151
    },
    {
     "cell_type": "code",
     "collapsed": false,
     "input": [
      "dat['Step_End_Time'] = pd.to_datetime(dat['Step_End_Time'])"
     ],
     "language": "python",
     "metadata": {},
     "outputs": [],
     "prompt_number": 456
    },
    {
     "cell_type": "code",
     "collapsed": false,
     "input": [
      "dat['Step_Start_Time'] = pd.to_datetime(dat['Step_Start_Time'])"
     ],
     "language": "python",
     "metadata": {},
     "outputs": [],
     "prompt_number": 457
    },
    {
     "cell_type": "code",
     "collapsed": false,
     "input": [
      "duration_quiz = dat.Step_End_Time - dat.Step_Start_Time"
     ],
     "language": "python",
     "metadata": {},
     "outputs": [],
     "prompt_number": 458
    },
    {
     "cell_type": "code",
     "collapsed": false,
     "input": [
      "duration_quiz.to_json(\"quiz_per_duration.json\")"
     ],
     "language": "python",
     "metadata": {},
     "outputs": [],
     "prompt_number": 171
    },
    {
     "cell_type": "code",
     "collapsed": false,
     "input": [
      "problems_feature = pd.DataFrame(columns=[\"Average_Time_Response\",\"Average_Attemps\",\"Average_Student_First_Time_Correct\",\"Total_Students_Attemps\"],index=dat[\"Problem_Name\"].unique())"
     ],
     "language": "python",
     "metadata": {},
     "outputs": [],
     "prompt_number": 173
    },
    {
     "cell_type": "code",
     "collapsed": false,
     "input": [
      "s = dat.groupby([\"Anon_Student_Id\"]).sum()"
     ],
     "language": "python",
     "metadata": {},
     "outputs": [],
     "prompt_number": 196
    },
    {
     "cell_type": "code",
     "collapsed": false,
     "input": [
      "s.Point.to_json(\"points_per_student.json\")"
     ],
     "language": "python",
     "metadata": {},
     "outputs": [],
     "prompt_number": 201
    },
    {
     "cell_type": "code",
     "collapsed": false,
     "input": [
      "t = dat.groupby([\"Anon_Student_Id\"]).count()"
     ],
     "language": "python",
     "metadata": {},
     "outputs": [],
     "prompt_number": 204
    },
    {
     "cell_type": "code",
     "collapsed": false,
     "input": [
      "profile_student = dat[dat.Anon_Student_Id=='W1SLytJ']"
     ],
     "language": "python",
     "metadata": {},
     "outputs": [],
     "prompt_number": 221
    },
    {
     "cell_type": "code",
     "collapsed": false,
     "input": [
      "points_per_student = profile_student.Point"
     ],
     "language": "python",
     "metadata": {},
     "outputs": [],
     "prompt_number": 225
    },
    {
     "cell_type": "code",
     "collapsed": false,
     "input": [
      "dat['Step_End_Time'] = dat[\"Step_End_Time\"].apply( lambda dat : datetime.datetime(year=dat.year, month=dat.month, day=dat.day)) "
     ],
     "language": "python",
     "metadata": {},
     "outputs": [],
     "prompt_number": 228
    },
    {
     "cell_type": "code",
     "collapsed": false,
     "input": [
      "dat.set_index(dat[\"Step_End_Time\"],inplace=True)"
     ],
     "language": "python",
     "metadata": {},
     "outputs": [],
     "prompt_number": 229
    },
    {
     "cell_type": "code",
     "collapsed": false,
     "input": [
      "points_per_day = dat['Point'].resample('D').sum()"
     ],
     "language": "python",
     "metadata": {},
     "outputs": [],
     "prompt_number": 253
    },
    {
     "cell_type": "code",
     "collapsed": false,
     "input": [
      "%matplotlib\n",
      "points_per_day[\"2006-09-05\":\"2007-07-20\"].plot()"
     ],
     "language": "python",
     "metadata": {},
     "outputs": [
      {
       "output_type": "stream",
       "stream": "stdout",
       "text": [
        "Using matplotlib backend: TkAgg\n"
       ]
      },
      {
       "metadata": {},
       "output_type": "pyout",
       "prompt_number": 264,
       "text": [
        "<matplotlib.axes.AxesSubplot at 0x7f2b63ba1390>"
       ]
      }
     ],
     "prompt_number": 264
    },
    {
     "cell_type": "code",
     "collapsed": false,
     "input": [
      "example_responses = dat[[\"Anon_Student_Id\",\"Step_Name\",u\"Step_Duration_(sec)\",\"Correct_First_Attempt\"]]"
     ],
     "language": "python",
     "metadata": {},
     "outputs": [],
     "prompt_number": 459
    },
    {
     "cell_type": "code",
     "collapsed": false,
     "input": [
      "index_student_id = example_responses.Step_Name.unique().tolist()"
     ],
     "language": "python",
     "metadata": {},
     "outputs": [],
     "prompt_number": 460
    },
    {
     "cell_type": "code",
     "collapsed": false,
     "input": [
      "student_id = [index_student_id.index(t) for t in dat.Step_Name]"
     ],
     "language": "python",
     "metadata": {},
     "outputs": [],
     "prompt_number": 461
    },
    {
     "cell_type": "code",
     "collapsed": false,
     "input": [
      "dat.Step_Name.update(pd.Series(student_id))"
     ],
     "language": "python",
     "metadata": {},
     "outputs": [],
     "prompt_number": 462
    },
    {
     "cell_type": "code",
     "collapsed": false,
     "input": [
      "X_train,y_train,X_test,y_test = train_test_split(example_responses[example_responses.columns[0:3]],example_responses.Correct_First_Attempt,train_size=0.7)"
     ],
     "language": "python",
     "metadata": {},
     "outputs": [],
     "prompt_number": 367
    },
    {
     "cell_type": "code",
     "collapsed": false,
     "input": [
      "num_exercises=100\n",
      "num_abilities=20\n",
      "W_correct = np.zeros((num_exercises, num_abilities + 1))"
     ],
     "language": "python",
     "metadata": {},
     "outputs": [],
     "prompt_number": 370
    },
    {
     "cell_type": "code",
     "collapsed": false,
     "input": [
      "dat.Correct_First_Attempt.replace(to_replace={0:False,1:True},inplace=True,regex=True)"
     ],
     "language": "python",
     "metadata": {},
     "outputs": [],
     "prompt_number": 400
    },
    {
     "cell_type": "code",
     "collapsed": false,
     "input": [
      "dat[dat.Correct_First_Attempt==1]=True"
     ],
     "language": "python",
     "metadata": {},
     "outputs": [],
     "prompt_number": 410
    },
    {
     "cell_type": "code",
     "collapsed": false,
     "input": [
      "label_correct = dat.Correct_First_Attempt"
     ],
     "language": "python",
     "metadata": {},
     "outputs": [],
     "prompt_number": 412
    },
    {
     "cell_type": "code",
     "collapsed": false,
     "input": [
      "example_responses.Correct_First_Attempt = label_correct"
     ],
     "language": "python",
     "metadata": {},
     "outputs": [],
     "prompt_number": 419
    },
    {
     "cell_type": "code",
     "collapsed": false,
     "input": [
      "example_responses['Step_Duration_(sec)'] = example_responses['Step_Duration_(sec)'].fillna(0.0).astype(np.int)"
     ],
     "language": "python",
     "metadata": {},
     "outputs": [],
     "prompt_number": 429
    },
    {
     "cell_type": "code",
     "collapsed": false,
     "input": [
      "example_responses.to_csv(\"sample.response\")"
     ],
     "language": "python",
     "metadata": {},
     "outputs": [],
     "prompt_number": 431
    },
    {
     "cell_type": "code",
     "collapsed": false,
     "input": [
      "example_responses.to_csv(\"sample.response\",header=None,index=None)"
     ],
     "language": "python",
     "metadata": {},
     "outputs": [],
     "prompt_number": 433
    },
    {
     "cell_type": "code",
     "collapsed": false,
     "input": [
      "times_per_quiz = pd.DataFrame(duration_quiz,index=dat.Step_Name,columns=[\"Durations\"])"
     ],
     "language": "python",
     "metadata": {},
     "outputs": [],
     "prompt_number": 464
    },
    {
     "cell_type": "code",
     "collapsed": false,
     "input": [
      "%matplotlib\n",
      "times_per_quiz.Durations.astype(\"timedelta64[s]\")[0:10].plot()"
     ],
     "language": "python",
     "metadata": {},
     "outputs": [
      {
       "output_type": "stream",
       "stream": "stdout",
       "text": [
        "Using matplotlib backend: TkAgg\n"
       ]
      },
      {
       "metadata": {},
       "output_type": "pyout",
       "prompt_number": 472,
       "text": [
        "<matplotlib.axes.AxesSubplot at 0x7f2b62a2c910>"
       ]
      }
     ],
     "prompt_number": 472
    },
    {
     "cell_type": "code",
     "collapsed": false,
     "input": [
      "def Question(student_id,skills,correct):\n",
      "    total_skills = np.zeros(16)\n",
      "    for skill in skills:\n",
      "        total_skills[skill]=1\n",
      "    return {\n",
      "            \"student_id\":student_id,\n",
      "            \"skills\":total_skills,\n",
      "            \"correct\":correct\n",
      "        }\n"
     ],
     "language": "python",
     "metadata": {},
     "outputs": [],
     "prompt_number": 6
    },
    {
     "cell_type": "code",
     "collapsed": false,
     "input": [
      "list_questions=[]"
     ],
     "language": "python",
     "metadata": {},
     "outputs": [],
     "prompt_number": 40
    },
    {
     "cell_type": "code",
     "collapsed": false,
     "input": [
      "list_questions.append(Question(1,[8],1))\n",
      "list_questions.append(Question(1,[6,8],1))\n",
      "list_questions.append(Question(1,[7],0))\n",
      "list_questions.append(Question(1,[10],1))\n",
      "list_questions.append(Question(1,[4,7],0))\n",
      "list_questions.append(Question(1,[3,4],1))\n",
      "list_questions.append(Question(1,[10],1))\n",
      "list_questions.append(Question(1,[10,15],1))\n",
      "list_questions.append(Question(1,[12,14],1))\n",
      "list_questions.append(Question(1,[12,14],1))\n",
      "list_questions.append(Question(1,[13,10,14],0))\n",
      "list_questions.append(Question(1,[15,10],1))\n",
      "list_questions.append(Question(1,[10,14,15],1))\n",
      "list_questions.append(Question(1,[10,3],0))\n",
      "list_questions.append(Question(1,[9,5],1))\n",
      "list_questions.append(Question(1,[9,5],1))\n",
      "list_questions.append(Question(1,[1,2],1))\n",
      "list_questions.append(Question(1,[13,11,14],0))\n",
      "list_questions.append(Question(1,[15,12],0))\n",
      "list_questions.append(Question(1,[10,7,15],1))\n"
     ],
     "language": "python",
     "metadata": {},
     "outputs": [],
     "prompt_number": 41
    },
    {
     "cell_type": "code",
     "collapsed": false,
     "input": [
      "data_train = pd.DataFrame(list_questions)"
     ],
     "language": "python",
     "metadata": {},
     "outputs": [],
     "prompt_number": 42
    },
    {
     "cell_type": "code",
     "collapsed": false,
     "input": [
      "data_train_one = data_train[data_train.student_id==1]"
     ],
     "language": "python",
     "metadata": {},
     "outputs": [],
     "prompt_number": 43
    },
    {
     "cell_type": "code",
     "collapsed": false,
     "input": [
      "X = np.array(data_train_one.skills.tolist())\n",
      "y = np.array(data_train_one.correct.tolist())"
     ],
     "language": "python",
     "metadata": {},
     "outputs": [],
     "prompt_number": 44
    },
    {
     "cell_type": "code",
     "collapsed": false,
     "input": [
      "classifier = skflow.TensorFlowDNNClassifier(hidden_units=[10, 20, 10], n_classes=2,optimizer=\"Adam\")\n",
      "classifier.fit(X,y)\n",
      "score = metrics.accuracy_score(y, classifier.predict(X))\n",
      "print(\"Accuracy: %f\" % score)"
     ],
     "language": "python",
     "metadata": {},
     "outputs": [
      {
       "output_type": "stream",
       "stream": "stdout",
       "text": [
        "Step #1, epoch #1, avg. loss: 0.72949\n",
        "Step #21, epoch #21, avg. loss: 0.16554\n",
        "Step #41, epoch #41, avg. loss: 0.00001"
       ]
      },
      {
       "output_type": "stream",
       "stream": "stdout",
       "text": [
        "\n",
        "Step #61, epoch #61, avg. loss: 0.00000\n",
        "Step #81, epoch #81, avg. loss: 0.00000"
       ]
      },
      {
       "output_type": "stream",
       "stream": "stdout",
       "text": [
        "\n",
        "Step #101, epoch #101, avg. loss: 0.00000\n",
        "Step #121, epoch #121, avg. loss: 0.00000"
       ]
      },
      {
       "output_type": "stream",
       "stream": "stdout",
       "text": [
        "\n",
        "Step #141, epoch #141, avg. loss: 0.00000\n",
        "Step #161, epoch #161, avg. loss: 0.00000"
       ]
      },
      {
       "output_type": "stream",
       "stream": "stdout",
       "text": [
        "\n",
        "Step #181, epoch #181, avg. loss: 0.00000\n",
        "Accuracy: 1.000000"
       ]
      },
      {
       "output_type": "stream",
       "stream": "stdout",
       "text": [
        "\n"
       ]
      }
     ],
     "prompt_number": 48
    },
    {
     "cell_type": "code",
     "collapsed": false,
     "input": [],
     "language": "python",
     "metadata": {},
     "outputs": [
      {
       "metadata": {},
       "output_type": "pyout",
       "prompt_number": 47,
       "text": [
        "{'batch_size': 32,\n",
        " 'class_weight': None,\n",
        " 'continue_training': False,\n",
        " 'early_stopping_rounds': None,\n",
        " 'hidden_units': [10, 20, 10],\n",
        " 'keep_checkpoint_every_n_hours': 10000,\n",
        " 'learning_rate': 0.1,\n",
        " 'max_to_keep': 5,\n",
        " 'n_classes': 2,\n",
        " 'num_cores': 4,\n",
        " 'optimizer': 'SGD',\n",
        " 'steps': 200,\n",
        " 'tf_master': '',\n",
        " 'tf_random_seed': 42,\n",
        " 'verbose': 1}"
       ]
      }
     ],
     "prompt_number": 47
    }
   ],
   "metadata": {}
  }
 ]
}